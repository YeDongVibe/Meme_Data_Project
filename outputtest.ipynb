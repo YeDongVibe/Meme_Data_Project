{
 "cells": [
  {
   "cell_type": "markdown",
   "metadata": {},
   "source": [
    "### 엑셀 csv 파일로 출력"
   ]
  },
  {
   "cell_type": "code",
   "execution_count": 1,
   "metadata": {},
   "outputs": [
    {
     "name": "stdout",
     "output_type": "stream",
     "text": [
      "CSV 파일이 저장되었습니다: final_data_no_duplicates_renew.csv\n"
     ]
    }
   ],
   "source": [
    "import pandas as pd\n",
    "\n",
    "# 엑셀 파일 경로\n",
    "excel_file = \"D:/meme_Project/Meme_Data_Project/final_data_no_duplicates_renew.xlsx\"\n",
    "\n",
    "# 엑셀 파일에서 데이터 읽기\n",
    "df = pd.read_excel(excel_file)\n",
    "\n",
    "# CSV 파일로 저장\n",
    "csv_file = \"final_data_no_duplicates_renew.csv\"\n",
    "df.to_csv(csv_file, index=False, encoding='utf-8')\n",
    "\n",
    "print(f\"CSV 파일이 저장되었습니다: {csv_file}\")\n"
   ]
  },
  {
   "cell_type": "markdown",
   "metadata": {},
   "source": [
    "### 사용자가 입력한 내용 카테고리에서 찾아 관련 이미지 나타냄.\n",
    "### 이거를 이제 카테고리 포함 키워드까지 확장해야함\n",
    "### 23.10.11"
   ]
  },
  {
   "cell_type": "code",
   "execution_count": 3,
   "metadata": {},
   "outputs": [
    {
     "name": "stdout",
     "output_type": "stream",
     "text": [
      "다음과 같은 짤이 '우울'와(과) 관련이 있습니다:\n",
      "Category: 슬플때\n",
      "이미지 경로: https://dbdv11.cache-front.iwinv.net/thumgif/y2V3dYC4iD.webp\n",
      "\n",
      "Category: 슬플때\n",
      "이미지 경로: https://dbdv11.cache-front.iwinv.net/thumorg/37693f8fa767acda3ede1b9504fe742dbfcd77e074d8a10fa54375886ed7d033.jpg\n",
      "\n",
      "Category: 슬플때\n",
      "이미지 경로: https://dbdv11.cache-front.iwinv.net/thumgif/y2V3dYC4iD.webp\n",
      "\n",
      "Category: 슬플때\n",
      "이미지 경로: https://dbdv11.cache-front.iwinv.net/thumorg/37693f8fa767acda3ede1b9504fe742dbfcd77e074d8a10fa54375886ed7d033.jpg\n",
      "\n",
      "Category: 슬플때\n",
      "이미지 경로: https://dbdv11.cache-front.iwinv.net/thumorg/941c73ead926305545ae1e83af64a9105fdbf6457e3289888c61695dbba839f9.jpg\n",
      "\n",
      "Category: 슬플때\n",
      "이미지 경로: https://dbdv11.cache-front.iwinv.net/thumorg/ZvXZV4SX3U.jpg\n",
      "\n",
      "Category: 슬플때\n",
      "이미지 경로: https://dbdv11.cache-front.iwinv.net/thumorg/21bdbe7f305135736f6631e972b5b171b52926b7632cc5f2049d04d306936b8a.jpg\n",
      "\n",
      "Category: 슬플때\n",
      "이미지 경로: https://dbdv11.cache-front.iwinv.net/thumgif/qV4wOTyeYl.GIF\n",
      "\n",
      "Category: 슬플때\n",
      "이미지 경로: https://dbdv11.cache-front.iwinv.net/thumorg/ca22e903a58ed559253f34b682dd6c47b41801b58eb807576d5273bd6f8f5250.jpg\n",
      "\n"
     ]
    }
   ],
   "source": [
    "import pandas as pd\n",
    "\n",
    "# CSV 파일에서 데이터 로드\n",
    "data = pd.read_csv(\"final_data_no_duplicates_renew.csv\")\n",
    "\n",
    "# 사용자 입력 받기\n",
    "user_input = input(\"키워드를 입력하세요: \")\n",
    "\n",
    "# 검색 키워드\n",
    "search_keyword = user_input.lower()  # 입력된 키워드를 소문자로 변환\n",
    "\n",
    "# 데이터에서 키워드를 찾아 관련 짤 찾기\n",
    "related_memes = []\n",
    "for index, row in data.iterrows():\n",
    "    # 각 열의 값을 문자열로 변환하고, NaN 값을 빈 문자열로 대체\n",
    "    category = str(row['category']) if not pd.isnull(row['category']) else \"\"\n",
    "    text_columns = [str(row[str(i)]) if not pd.isnull(row[str(i)]) else \"\" for i in range(7)]\n",
    "    \n",
    "    combined_text = category + ''.join(text_columns)\n",
    "    \n",
    "    if search_keyword in combined_text.lower():\n",
    "        related_memes.append((category, row['img_url']))\n",
    "\n",
    "# 관련 짤 출력\n",
    "if related_memes:\n",
    "    print(f\"다음과 같은 짤이 '{search_keyword}'와(과) 관련이 있습니다:\")\n",
    "    for category, img_url in related_memes:\n",
    "        print(\"Category:\", category)\n",
    "        print(\"이미지 경로:\", img_url)\n",
    "        print()\n",
    "else:\n",
    "    print(f\"'{search_keyword}'와(과) 관련된 짤을 찾을 수 없습니다.\")\n"
   ]
  }
 ],
 "metadata": {
  "kernelspec": {
   "display_name": "Python 3",
   "language": "python",
   "name": "python3"
  },
  "language_info": {
   "codemirror_mode": {
    "name": "ipython",
    "version": 3
   },
   "file_extension": ".py",
   "mimetype": "text/x-python",
   "name": "python",
   "nbconvert_exporter": "python",
   "pygments_lexer": "ipython3",
   "version": "3.11.5"
  }
 },
 "nbformat": 4,
 "nbformat_minor": 2
}
