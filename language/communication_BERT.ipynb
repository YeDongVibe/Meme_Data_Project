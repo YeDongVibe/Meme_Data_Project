{
 "cells": [
  {
   "cell_type": "markdown",
   "metadata": {},
   "source": [
    "### YeBot 만들기"
   ]
  },
  {
   "cell_type": "markdown",
   "metadata": {},
   "source": [
    "### 라이브러리 import"
   ]
  },
  {
   "cell_type": "code",
   "execution_count": 1,
   "metadata": {},
   "outputs": [],
   "source": [
    "import numpy as np\n",
    "import pandas as pd\n",
    "from numpy import dot\n",
    "from numpy.linalg import norm\n",
    "from sentence_transformers import SentenceTransformer\n"
   ]
  },
  {
   "cell_type": "markdown",
   "metadata": {},
   "source": [
    "### 훈련데이터 로드"
   ]
  },
  {
   "cell_type": "code",
   "execution_count": 2,
   "metadata": {},
   "outputs": [
    {
     "data": {
      "text/html": [
       "<div>\n",
       "<style scoped>\n",
       "    .dataframe tbody tr th:only-of-type {\n",
       "        vertical-align: middle;\n",
       "    }\n",
       "\n",
       "    .dataframe tbody tr th {\n",
       "        vertical-align: top;\n",
       "    }\n",
       "\n",
       "    .dataframe thead th {\n",
       "        text-align: right;\n",
       "    }\n",
       "</style>\n",
       "<table border=\"1\" class=\"dataframe\">\n",
       "  <thead>\n",
       "    <tr style=\"text-align: right;\">\n",
       "      <th></th>\n",
       "      <th>Q</th>\n",
       "      <th>A</th>\n",
       "    </tr>\n",
       "  </thead>\n",
       "  <tbody>\n",
       "    <tr>\n",
       "      <th>0</th>\n",
       "      <td>나 오늘 힘들어.</td>\n",
       "      <td>힘들 때 기분 전환을 위한 짤을 추천해드릴게요.</td>\n",
       "    </tr>\n",
       "    <tr>\n",
       "      <th>1</th>\n",
       "      <td>내일 시험이 있는데 긴장돼.</td>\n",
       "      <td>시험을 앞두고 긴장할 때, 이 짤을 보세요. 분명 웃을 거예요!</td>\n",
       "    </tr>\n",
       "    <tr>\n",
       "      <th>2</th>\n",
       "      <td>친구랑 싸웠어. 기분이 안 좋아.</td>\n",
       "      <td>싸운 뒤에는 친구와 웃음을 공유하면 좋아요. 이 짤을 보세요.</td>\n",
       "    </tr>\n",
       "    <tr>\n",
       "      <th>3</th>\n",
       "      <td>날씨가 매우 흐려서 우울해.</td>\n",
       "      <td>우울한 날씨에도 힘내세요. 이 밝은 짤을 추천해드립니다.</td>\n",
       "    </tr>\n",
       "    <tr>\n",
       "      <th>4</th>\n",
       "      <td>생일인데 혼자라서 외로워.</td>\n",
       "      <td>생일에도 혼자인 건 언제나 외로운 일이에요. 이 짤로 생일 분위기를 만들어보세요.</td>\n",
       "    </tr>\n",
       "  </tbody>\n",
       "</table>\n",
       "</div>"
      ],
      "text/plain": [
       "                    Q                                              A\n",
       "0           나 오늘 힘들어.                     힘들 때 기분 전환을 위한 짤을 추천해드릴게요.\n",
       "1     내일 시험이 있는데 긴장돼.            시험을 앞두고 긴장할 때, 이 짤을 보세요. 분명 웃을 거예요!\n",
       "2  친구랑 싸웠어. 기분이 안 좋아.             싸운 뒤에는 친구와 웃음을 공유하면 좋아요. 이 짤을 보세요.\n",
       "3     날씨가 매우 흐려서 우울해.                우울한 날씨에도 힘내세요. 이 밝은 짤을 추천해드립니다.\n",
       "4      생일인데 혼자라서 외로워.  생일에도 혼자인 건 언제나 외로운 일이에요. 이 짤로 생일 분위기를 만들어보세요."
      ]
     },
     "execution_count": 2,
     "metadata": {},
     "output_type": "execute_result"
    }
   ],
   "source": [
    "file_path = \"output.csv\"\n",
    "train_data = pd.read_csv(file_path)\n",
    "train_data.head()\n"
   ]
  },
  {
   "cell_type": "markdown",
   "metadata": {},
   "source": [
    "### 문장 임베딩 추출 (BERT 사용)"
   ]
  },
  {
   "cell_type": "code",
   "execution_count": 3,
   "metadata": {},
   "outputs": [],
   "source": [
    "model = SentenceTransformer('sentence-transformers/xlm-r-100langs-bert-base-nli-stsb-mean-tokens')\n"
   ]
  },
  {
   "cell_type": "markdown",
   "metadata": {},
   "source": [
    "### 'Q'에 대한 문장 임베딩 값을 구한 후 embedding이라는 열에 저장"
   ]
  },
  {
   "cell_type": "code",
   "execution_count": 4,
   "metadata": {},
   "outputs": [],
   "source": [
    "train_data['embedding'] = train_data.apply(lambda row: model.encode(row.Q), axis = 1)\n"
   ]
  },
  {
   "cell_type": "markdown",
   "metadata": {},
   "source": [
    "### cosine 유사도 정의\n",
    "* 두 벡터의 방향이 완전히 동일 시 1, 90도의 각 이루면 0, 180각을 이루면 -1\n",
    "* 1에 가까울 수록 유사도가 높음"
   ]
  },
  {
   "cell_type": "code",
   "execution_count": 5,
   "metadata": {},
   "outputs": [],
   "source": [
    "def cos_sim(A, B):\n",
    "  return dot(A, B)/(norm(A)*norm(B))"
   ]
  },
  {
   "cell_type": "code",
   "execution_count": 6,
   "metadata": {},
   "outputs": [],
   "source": [
    "def return_answer(question) : \n",
    "    embedding = model.encode(question)\n",
    "    train_data['score'] = train_data.apply(lambda x: cos_sim(x['embedding'], embedding), axis=1)\n",
    "    return train_data.loc[train_data['score'].idxmax()]['A']\n"
   ]
  },
  {
   "cell_type": "code",
   "execution_count": 7,
   "metadata": {},
   "outputs": [
    {
     "data": {
      "text/plain": [
       "'고민을 해결해주는 짤을 추천해드릴게요.'"
      ]
     },
     "execution_count": 7,
     "metadata": {},
     "output_type": "execute_result"
    }
   ],
   "source": [
    "return_answer('화날 때 쓸 짤')"
   ]
  }
 ],
 "metadata": {
  "kernelspec": {
   "display_name": "Python 3",
   "language": "python",
   "name": "python3"
  },
  "language_info": {
   "codemirror_mode": {
    "name": "ipython",
    "version": 3
   },
   "file_extension": ".py",
   "mimetype": "text/x-python",
   "name": "python",
   "nbconvert_exporter": "python",
   "pygments_lexer": "ipython3",
   "version": "3.11.5"
  }
 },
 "nbformat": 4,
 "nbformat_minor": 2
}
